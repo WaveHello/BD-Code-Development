{
 "cells": [
  {
   "cell_type": "code",
   "execution_count": 69,
   "metadata": {},
   "outputs": [],
   "source": [
    "import numpy as np\n",
    "from numpy import trapz\n",
    "\n",
    "import pandas as pd\n",
    "import os\n",
    "import datetime\n",
    "\n",
    "import matplotlib\n",
    "\n",
    "# Uses tinker as the backend for matplotlib (Not really sure what this is doing)\n",
    "# matplotlib.use('TkAgg')\n",
    "import matplotlib.pyplot as plt\n",
    "\n",
    "from pathlib import Path\n",
    "\n",
    "import math\n",
    "from math import pi\n",
    "from math import sqrt\n",
    "\n",
    "import statistics\n",
    "\n",
    "import scipy.integrate\n",
    "from scipy.signal import find_peaks\n",
    "from scipy.signal import argrelmin\n",
    "from scipy.integrate import cumtrapz"
   ]
  },
  {
   "cell_type": "code",
   "execution_count": 72,
   "metadata": {},
   "outputs": [],
   "source": [
    "# Local lib imports \n",
    "# from lib.cone_area_funcs import calcFFPContactArea\n"
   ]
  },
  {
   "cell_type": "code",
   "execution_count": 73,
   "metadata": {},
   "outputs": [],
   "source": [
    "# Define global values (use very selectively!)\n",
    "PI = np.pi"
   ]
  },
  {
   "cell_type": "code",
   "execution_count": 74,
   "metadata": {},
   "outputs": [],
   "source": [
    "\n",
    "# FFP_Properties =\n",
    "    \n",
    "def integrateFunc(x, func, order = 1):\n",
    "    # x: Dependent Variable that the derivative should be taken with respect to\n",
    "    # func: function that the derivative is being taken of\n",
    "    # order: the order of the integral that should be taken\n",
    "\n",
    "    pass\n",
    "\n",
    "def calcDerivative(x, func, order = 1, type = \"forward\"):\n",
    "    # x: Dependent Variable that the derivative should be taken with respect to\n",
    "    # func: function that the derivative is being taken of\n",
    "    # order: the order of the derivative that should be taken. 1 for first derivative, 2 for second...\n",
    "    # Type of derivative that should be taken (forward, backwards, central)\n",
    "\n",
    "    pass\n",
    "\n",
    "# def tipProperties(tipType):\n",
    "#     if tipType == \"cone\":\n",
    "#         mass = 7.71 # [kg]\n",
    "#         length = 8.48 - 0.93 #[cm], originally 7.87, 7.57 fors perfect 60 deg, 8.48 measured - .93 measured 90 deg\n",
    "#     if tipType == \"\"\n",
    "\n",
    "    "
   ]
  },
  {
   "cell_type": "code",
   "execution_count": 75,
   "metadata": {},
   "outputs": [],
   "source": [
    "# SETUP VARIABLES - USER INPUTS\n",
    "BD = 3 #Bluedrop file is from \n",
    "fileNum = '01F3' # write the bin file number you want to analyze (do not include 'bLog' or '.bin')\n",
    "soiltype = \"c\" #s = sand, c=clay, m=mixed, u=unknown\n",
    "tiptype = 'c'  # c = cone, p = parabolic, b = blunt\n",
    "truncate_at_cone = \"n\" #\"y\" to end analysis at a penetration depth equal to the cone length, \"n\" to consider full cone length\n",
    "droptype = \"w\" #w = water, #a = air\n",
    "unit_wt = \"uk\" #enter an effective unit weight value in kg/m^3 or \"uk\" if unknown \n",
    "Nkt = 10 #default value for cone factor used in su calculations\n",
    "drop_finding = \"m\" #\"m\" for manual drop picking, \"a\" for automatic drop picking\n",
    "\n",
    "# paste the filepath to the folder where the BD data is stored\n",
    "binFilepath = Path(\"C:/Users/elise/Desktop/bd_manual/sample_drops\")\n",
    "\n",
    "# paste the filepath to an excel file that the analysis results will be printed in\n",
    "outputPath = Path(\"C:/Users/elise/Desktop/bd_manual/sample_drops/Figures/Summary_Excel.xlsx\")\n",
    "\n",
    "# paste the filepath to the folder where the output figures will be saved\n",
    "plotPath = Path(\"C:/Users/elise/Desktop/bd_manual/sample_drops/Figures\")"
   ]
  },
  {
   "cell_type": "code",
   "execution_count": 105,
   "metadata": {},
   "outputs": [],
   "source": [
    "from lib.BinaryFile import BinaryFile\n",
    "\n",
    "\n",
    "\n",
    "\n",
    "    "
   ]
  },
  {
   "cell_type": "code",
   "execution_count": null,
   "metadata": {},
   "outputs": [],
   "source": []
  },
  {
   "cell_type": "code",
   "execution_count": 107,
   "metadata": {},
   "outputs": [],
   "source": [
    "# Get directories of all binary files in the specified directory\n",
    "dir = r\"C:\\Geotech_Research\\Field_Analysis\\Bluedrop_data\\Mouth 1\"\n",
    "\n",
    "import glob\n",
    "\n",
    "\n",
    "column_names = [\"Count\", 'Unknown', \"2g_accel\", \"18g_accel\", \"50g_accel\", \"pore_pressure\", \"200g_accel\", \n",
    "                                                                \"55g_x_tilt\",\"55g_y_tilt\", \"250g_accel\"]\n",
    "\n",
    "binary_file_dirs  = get_binary_file_dirs(dir)\n",
    "\n",
    "# Add a function to sort the binary files by date\n",
    "\n",
    "# init list to store the data files\n",
    "data_files = [None] * len(binary_file_dirs)\n",
    "\n",
    "for i, file_dir in enumerate(binary_file_dirs):\n",
    "    data_files[i] = PFFP_File(file_dir)\n",
    "    data_files[i] = PFFP_File.binary_file_2_df(file_dir, column_names)    "
   ]
  },
  {
   "cell_type": "markdown",
   "metadata": {},
   "source": [
    "### Things to do\n",
    "\n",
    "* Convert the df data to SI units\n",
    "* Make a way to plot the data\n",
    "* Make a way to try to get the number of drops\n",
    "* Convert data to bearing capacity\n",
    "* Create function to assign PPFP properties\n",
    "  * I don't want to do this on init because there might be surveys were you use more than one tip or bluedrop \n",
    "* Assume that each folder only contains data from one PFFP"
   ]
  },
  {
   "cell_type": "code",
   "execution_count": 117,
   "metadata": {},
   "outputs": [],
   "source": [
    "import os\n",
    "import glob\n",
    "\n"
   ]
  },
  {
   "cell_type": "code",
   "execution_count": 119,
   "metadata": {},
   "outputs": [],
   "source": [
    "# from lib.pffpDataFolder import pffpDataFolder\n",
    "calib_dir = r\"C:\"\n",
    "\n",
    "folder = pffpDataFolder(dir, pffp_id=1, calibration_factor_dir=calib_dir)\n",
    "folder.store_binary_files()\n"
   ]
  },
  {
   "cell_type": "code",
   "execution_count": 9,
   "metadata": {},
   "outputs": [
    {
     "name": "stdout",
     "output_type": "stream",
     "text": [
      "<built-in function dir>\n",
      "[]\n"
     ]
    }
   ],
   "source": []
  },
  {
   "cell_type": "code",
   "execution_count": 7,
   "metadata": {},
   "outputs": [
    {
     "name": "stdout",
     "output_type": "stream",
     "text": [
      "<lib.BinaryFile.BinaryFile object at 0x00000141882DAE10>\n"
     ]
    }
   ],
   "source": [
    "print(file)"
   ]
  },
  {
   "cell_type": "code",
   "execution_count": null,
   "metadata": {},
   "outputs": [],
   "source": []
  }
 ],
 "metadata": {
  "kernelspec": {
   "display_name": "PFFP_FieldWork",
   "language": "python",
   "name": "python3"
  },
  "language_info": {
   "codemirror_mode": {
    "name": "ipython",
    "version": 3
   },
   "file_extension": ".py",
   "mimetype": "text/x-python",
   "name": "python",
   "nbconvert_exporter": "python",
   "pygments_lexer": "ipython3",
   "version": "3.11.5"
  }
 },
 "nbformat": 4,
 "nbformat_minor": 2
}
