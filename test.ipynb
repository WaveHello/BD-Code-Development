{
 "cells": [
  {
   "cell_type": "code",
   "execution_count": 1,
   "metadata": {},
   "outputs": [
    {
     "ename": "ModuleNotFoundError",
     "evalue": "No module named 'lib.BinaryFile'",
     "output_type": "error",
     "traceback": [
      "\u001b[1;31m---------------------------------------------------------------------------\u001b[0m",
      "\u001b[1;31mModuleNotFoundError\u001b[0m                       Traceback (most recent call last)",
      "Cell \u001b[1;32mIn[1], line 2\u001b[0m\n\u001b[0;32m      1\u001b[0m \u001b[38;5;28;01mimport\u001b[39;00m \u001b[38;5;21;01mglob\u001b[39;00m\n\u001b[1;32m----> 2\u001b[0m \u001b[38;5;28;01mfrom\u001b[39;00m \u001b[38;5;21;01mlib\u001b[39;00m\u001b[38;5;21;01m.\u001b[39;00m\u001b[38;5;21;01mBinaryFile\u001b[39;00m \u001b[38;5;28;01mimport\u001b[39;00m BinaryFile\n\u001b[0;32m      4\u001b[0m \u001b[38;5;28;01mdef\u001b[39;00m \u001b[38;5;21mget_binary_file_dirs\u001b[39m(folder_dir):\n\u001b[0;32m      5\u001b[0m     \u001b[38;5;66;03m# Purpose: Get all of the binary file directories from a folder\u001b[39;00m\n\u001b[0;32m      6\u001b[0m     binary_file_dirs \u001b[38;5;241m=\u001b[39m []\n",
      "\u001b[1;31mModuleNotFoundError\u001b[0m: No module named 'lib.BinaryFile'"
     ]
    }
   ],
   "source": [
    "import glob\n",
    "from lib.BinaryFile import BinaryFile\n",
    "\n",
    "def get_binary_file_dirs(folder_dir):\n",
    "    # Purpose: Get all of the binary file directories from a folder\n",
    "    binary_file_dirs = []\n",
    "\n",
    "    print(folder_dir)\n",
    "    # for file in glob.glob(folder_dir + '**/*.bin', recursive = True):\n",
    "    #     file_path = os.path.join(folder_dir, file)\n",
    "    #     binary_file_dirs.append(file_path)\n",
    "\n",
    "    return binary_file_dirs\n",
    "file_dir = get_binary_file_dirs(dir)\n",
    "print(file_dir)\n",
    "file = BinaryFile(file_dir)\n"
   ]
  },
  {
   "cell_type": "code",
   "execution_count": null,
   "metadata": {},
   "outputs": [],
   "source": []
  }
 ],
 "metadata": {
  "kernelspec": {
   "display_name": "PFFP_FieldWork",
   "language": "python",
   "name": "python3"
  },
  "language_info": {
   "codemirror_mode": {
    "name": "ipython",
    "version": 3
   },
   "file_extension": ".py",
   "mimetype": "text/x-python",
   "name": "python",
   "nbconvert_exporter": "python",
   "pygments_lexer": "ipython3",
   "version": "3.11.5"
  }
 },
 "nbformat": 4,
 "nbformat_minor": 2
}
